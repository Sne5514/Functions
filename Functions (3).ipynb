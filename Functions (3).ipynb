{
  "nbformat": 4,
  "nbformat_minor": 0,
  "metadata": {
    "colab": {
      "provenance": []
    },
    "kernelspec": {
      "name": "python3",
      "display_name": "Python 3"
    },
    "language_info": {
      "name": "python"
    }
  },
  "cells": [
    {
      "cell_type": "code",
      "execution_count": null,
      "metadata": {
        "id": "RdHoh01ulqUq"
      },
      "outputs": [],
      "source": []
    },
    {
      "cell_type": "markdown",
      "source": [
        "# Functions"
      ],
      "metadata": {
        "id": "2DsGZWDFlwtv"
      }
    },
    {
      "cell_type": "markdown",
      "source": [
        "1. What is HTML, and what is its role in web development?\n",
        "     \n",
        "     ->HTML stands for HyperText Markup Language.HTML is the standards markup language for creating web pages.HTML describe the structures of a web pages.HTML consists of a series of element.HTML elements tell the browser how to display the content.HTML is made up of elements,which are the building blocks of a webpage.\n",
        "\n",
        "     HTML ROLE IN WEB DEVELOPMENT-The role of HTML in web development is to provide the backbone and structure of a web page. It defines the layout and organization of content on a web page by using a ranked structure of elements. HTML tags allow developers to specify the type of content being displayed and how it should be presented.\n",
        "\n",
        "      \n",
        "2. What is web development?\n",
        "   \n",
        "   ->Web development is the process of building, programming, and maintaining websites and web applications. Website developers use various programming languages, like HTML, CSS, and JavaScript, to develop websites and web applications.\n",
        "\n",
        "   There are typically three main types of web development:\n",
        "\n",
        "   1.Front-end Development\n",
        "   2.Back-end Development\n",
        "   3.Full-stack Development\n",
        "   \n",
        "   Web development can also include tasks like website optimization, security, and ensuring a responsive design that works across different devices and screen sizes.\n",
        "\n",
        "\n",
        "3. What are the core technologies used in web development?\n",
        "   \n",
        "   ->Web development is a vast field that involves a multitude of technologies and skills. At the heart of this domain are three foundational technologies: HTML, CSS, and JavaScript. Each plays a crucial role in building and enhancing websites, contributing to the structure, style, and interactivity of content on the web.The main language of the web is JavaScript, presented on most web pages and web apps on the client-side. This means that the web technologies are mostly based on JavaScript, while server-side technologies are varied . NET, Java, PHP, Ruby, or even server-side JavaScript Node.\n",
        "\n",
        "\n",
        "4. What is CSS and what is its purpose?\n",
        "\n",
        "  ->Cascading Style Sheets (CSS) is a stylesheet language used to describe the presentation of a document written in HTML or XML (including XML dialects such as SVG, MathML or XHTML). CSS describes how elements should be rendered on screen, on paper, in speech, or on other media.CSS Form is used to create interactive form for user. CSS provides many ways to set the style.\n",
        "  \n",
        "\n",
        "5. What are the basic data types in JavaScript?\n",
        "\n",
        "  ->JavaScript as a language provides the following eight basic data types:\n",
        "Number,\n",
        "String,\n",
        "Boolean,\n",
        "Null,\n",
        "Undefined,\n",
        "BigInt,\n",
        "Symbol,\n",
        "Object.\n",
        "\n",
        "  "
      ],
      "metadata": {
        "id": "IBBOqY14mRCl"
      }
    },
    {
      "cell_type": "code",
      "source": [],
      "metadata": {
        "id": "HRwzJi_8mJR2"
      },
      "execution_count": null,
      "outputs": []
    }
  ]
}